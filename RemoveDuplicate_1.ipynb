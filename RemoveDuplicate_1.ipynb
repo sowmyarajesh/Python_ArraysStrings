{
  "nbformat": 4,
  "nbformat_minor": 0,
  "metadata": {
    "colab": {
      "name": "RemoveDuplicate-1.ipynb",
      "provenance": [],
      "authorship_tag": "ABX9TyNWnxPIw45zdKIaQdQu3V+6",
      "include_colab_link": true
    },
    "kernelspec": {
      "name": "python3",
      "display_name": "Python 3"
    },
    "language_info": {
      "name": "python"
    }
  },
  "cells": [
    {
      "cell_type": "markdown",
      "metadata": {
        "id": "view-in-github",
        "colab_type": "text"
      },
      "source": [
        "<a href=\"https://colab.research.google.com/github/sowmyarajesh/Python_ArraysStrings/blob/main/RemoveDuplicate_1.ipynb\" target=\"_parent\"><img src=\"https://colab.research.google.com/assets/colab-badge.svg\" alt=\"Open In Colab\"/></a>"
      ]
    },
    {
      "cell_type": "markdown",
      "source": [
        "Given a sorted array, remove the duplicates in place such that each element appear only once and return the new length. Do not allocate extra space for another array, you must do this in place with constant memory.\n",
        "\n",
        "For example, given input array A = [1,1,2], your function should return length = 2, and A is now [1,2]."
      ],
      "metadata": {
        "id": "gBmocSEJLPyr"
      }
    },
    {
      "cell_type": "code",
      "execution_count": 9,
      "metadata": {
        "colab": {
          "base_uri": "https://localhost:8080/"
        },
        "id": "od40GdiSKuOW",
        "outputId": "0922a92a-a2b7-4ebd-f8ca-bc0b59f15f49"
      },
      "outputs": [
        {
          "output_type": "stream",
          "name": "stdout",
          "text": [
            "num[1] == num[0] and index == -1\n",
            "num[2] != num[1] and index == 0\n",
            "2\n",
            "num[1] == num[0] and index == -1\n",
            "num[2] != num[1] and index == 0\n",
            "num[3] == num[2] and index == -1\n",
            "num[4] != num[3] and index == 2\n",
            "num[5] == num[4] and index == -1\n",
            "num[6] == num[5] and index == 4\n",
            "3\n",
            "num[1] == num[0] and index == -1\n",
            "num[2] == num[1] and index == 0\n",
            "num[3] != num[2] and index == 0\n",
            "num[4] == num[3] and index == -1\n",
            "num[5] != num[4] and index == 3\n",
            "3\n"
          ]
        }
      ],
      "source": [
        "class Solution:\n",
        "    def removeDuplicates(self, nums):\n",
        "        \n",
        "        count = 0\n",
        "        if len(nums)>0:\n",
        "            count+=1\n",
        "            index = -1\n",
        "            for i in range(1,len(nums)):\n",
        "                if nums[i]==nums[i-1]:\n",
        "                    if index == -1:\n",
        "                        # print(\"num[{}] == num[{}] and index == -1\".format(i, (i-1)))\n",
        "                        index = i-1\n",
        "                    # else:\n",
        "                        # print(\"num[{}] == num[{}] and index == {}\".format(i, (i-1), index))\n",
        "                elif index!=-1: \n",
        "                    # print(\"num[{}] != num[{}] and index == {}\".format(i, (i-1), index))\n",
        "                    count+=1\n",
        "                    nums[index+1]=nums[i]\n",
        "                    index = -1\n",
        "            \n",
        "        return count\n",
        "\n",
        "inputs = [\n",
        "    [1,1,2],\n",
        "    [1,1,3,3,4,4,4],\n",
        "    [3,3,3,4,4,5]\n",
        "]\n",
        "\n",
        "sol = Solution()\n",
        "for inp in inputs:\n",
        "  print(sol.removeDuplicates(inp))"
      ]
    },
    {
      "cell_type": "code",
      "source": [
        ""
      ],
      "metadata": {
        "id": "j3m2rIq-MEZN"
      },
      "execution_count": null,
      "outputs": []
    }
  ]
}